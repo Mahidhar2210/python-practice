{
  "nbformat": 4,
  "nbformat_minor": 0,
  "metadata": {
    "colab": {
      "name": "List.ipynb",
      "provenance": [],
      "authorship_tag": "ABX9TyMXZW29afIvoVEqZmHe5VjM",
      "include_colab_link": true
    },
    "kernelspec": {
      "name": "python3",
      "display_name": "Python 3"
    },
    "language_info": {
      "name": "python"
    }
  },
  "cells": [
    {
      "cell_type": "markdown",
      "metadata": {
        "id": "view-in-github",
        "colab_type": "text"
      },
      "source": [
        "<a href=\"https://colab.research.google.com/github/Mahidhar2210/python-practice/blob/lists/List.ipynb\" target=\"_parent\"><img src=\"https://colab.research.google.com/assets/colab-badge.svg\" alt=\"Open In Colab\"/></a>"
      ]
    },
    {
      "cell_type": "code",
      "execution_count": null,
      "metadata": {
        "colab": {
          "base_uri": "https://localhost:8080/"
        },
        "id": "V4xvlqe44ZrA",
        "outputId": "1db9188a-c60d-4b97-9ef4-8c8e73764a1f"
      },
      "outputs": [
        {
          "output_type": "stream",
          "name": "stdout",
          "text": [
            "mango\n"
          ]
        }
      ],
      "source": [
        "#fruit names\n",
        "fruit=['mango','gauva','grapes','apple','orange']\n",
        "print(fruit[0])"
      ]
    },
    {
      "cell_type": "code",
      "source": [
        "fruit=['mango','gauva','grapes','apple','orange']\n",
        "fruit.insert(3,'blueberry')\n",
        "print(fruit)"
      ],
      "metadata": {
        "colab": {
          "base_uri": "https://localhost:8080/"
        },
        "id": "1B3iYhSXHm5R",
        "outputId": "e07105ac-c31b-4689-bb2f-1d03d1a07e9f"
      },
      "execution_count": null,
      "outputs": [
        {
          "output_type": "stream",
          "name": "stdout",
          "text": [
            "['mango', 'gauva', 'grapes', 'blueberry', 'apple', 'orange']\n"
          ]
        }
      ]
    },
    {
      "cell_type": "code",
      "source": [
        "fruit=['mango','gauva','grapes','apple','orange']\n",
        "print(fruit[0:2])\n",
        "print(fruit[-1])\n",
        "print(fruit[0:-3])\n",
        "print(fruit[ -2:])"
      ],
      "metadata": {
        "colab": {
          "base_uri": "https://localhost:8080/"
        },
        "id": "yejFkyxk5mc0",
        "outputId": "776c789d-3127-48e3-e7d5-36f97d180faa"
      },
      "execution_count": null,
      "outputs": [
        {
          "output_type": "stream",
          "name": "stdout",
          "text": [
            "['mango', 'gauva']\n",
            "orange\n",
            "['mango', 'gauva']\n",
            "['apple', 'orange']\n"
          ]
        }
      ]
    },
    {
      "cell_type": "code",
      "source": [
        "a=[10,20,20,10,4,2,4,6,2,3,4]\n",
        "b=a[4]%a[3]\n",
        "print(b)\n",
        "print(a[0:6])\n",
        "print(a[-1])"
      ],
      "metadata": {
        "colab": {
          "base_uri": "https://localhost:8080/"
        },
        "id": "XlAZBoy88Tmc",
        "outputId": "bf0c24e7-26d5-4e7a-f866-b799b800441d"
      },
      "execution_count": null,
      "outputs": [
        {
          "output_type": "stream",
          "name": "stdout",
          "text": [
            "4\n",
            "[10, 20, 20, 10, 4, 2]\n",
            "4\n"
          ]
        }
      ]
    },
    {
      "cell_type": "code",
      "source": [
        "fruit=['mango','gauva','grapes','apple','orange']\n",
        "print(fruit)\n",
        "fruit.reverse()\n",
        "print(fruit)\n",
        "fruit.sort()\n",
        "print(fruit)\n",
        "print(len(fruit))\n",
        "fruit.extend(['kiwi','banana'])\n",
        "print(fruit)"
      ],
      "metadata": {
        "colab": {
          "base_uri": "https://localhost:8080/"
        },
        "id": "BEZ8U8iYKboR",
        "outputId": "96bcd2d0-cf68-4052-8251-d37417b12991"
      },
      "execution_count": null,
      "outputs": [
        {
          "output_type": "stream",
          "name": "stdout",
          "text": [
            "['mango', 'gauva', 'grapes', 'apple', 'orange']\n",
            "['orange', 'apple', 'grapes', 'gauva', 'mango']\n",
            "['apple', 'gauva', 'grapes', 'mango', 'orange']\n",
            "5\n",
            "['apple', 'gauva', 'grapes', 'mango', 'orange', 'kiwi', 'banana']\n"
          ]
        }
      ]
    },
    {
      "cell_type": "code",
      "source": [
        "for i in range (1,10):\n",
        "  print(i)"
      ],
      "metadata": {
        "colab": {
          "base_uri": "https://localhost:8080/"
        },
        "id": "4GVuYyUg9EQM",
        "outputId": "32628893-30a2-4828-9aec-17b3d9da65e1"
      },
      "execution_count": null,
      "outputs": [
        {
          "output_type": "stream",
          "name": "stdout",
          "text": [
            "1\n",
            "2\n",
            "3\n",
            "4\n",
            "5\n",
            "6\n",
            "7\n",
            "8\n",
            "9\n"
          ]
        }
      ]
    },
    {
      "cell_type": "code",
      "source": [
        "a=[10,20,20,10,4,2,4,6,2,3,4]\n",
        "a.append(8)\n",
        "print(a)\n",
        "a.extend([3,5,4,6])\n",
        "print(a)"
      ],
      "metadata": {
        "colab": {
          "base_uri": "https://localhost:8080/"
        },
        "id": "3Bg7cnfAGBKp",
        "outputId": "ca3bd852-0ed9-46d1-d610-c3cc3f198216"
      },
      "execution_count": null,
      "outputs": [
        {
          "output_type": "stream",
          "name": "stdout",
          "text": [
            "[10, 20, 20, 10, 4, 2, 4, 6, 2, 3, 4, 8]\n",
            "[10, 20, 20, 10, 4, 2, 4, 6, 2, 3, 4, 8, 3, 5, 4, 6]\n"
          ]
        }
      ]
    },
    {
      "cell_type": "code",
      "source": [
        "a=[10,20,20,10,4,2,4,6,2,3,4]\n",
        "b=[4,3,6,4,5,3]\n",
        "a.extend(b)\n",
        "print(a)"
      ],
      "metadata": {
        "colab": {
          "base_uri": "https://localhost:8080/"
        },
        "id": "aL52DpazGd_B",
        "outputId": "3d85bc66-730b-4311-f035-d6c3af2eba73"
      },
      "execution_count": null,
      "outputs": [
        {
          "output_type": "stream",
          "name": "stdout",
          "text": [
            "[10, 20, 20, 10, 4, 2, 4, 6, 2, 3, 4, 4, 3, 6, 4, 5, 3]\n"
          ]
        }
      ]
    },
    {
      "cell_type": "code",
      "source": [
        "a=[10,20,20,10,4,2,4,6,2,3,4]\n",
        "del a[4]\n",
        "print(a)\n",
        "del a[5]\n",
        "print(a)"
      ],
      "metadata": {
        "colab": {
          "base_uri": "https://localhost:8080/"
        },
        "id": "AvSobo5sGrJI",
        "outputId": "143c8059-aa55-4594-a267-07e8189909c1"
      },
      "execution_count": null,
      "outputs": [
        {
          "output_type": "stream",
          "name": "stdout",
          "text": [
            "[10, 20, 20, 10, 2, 4, 6, 2, 3, 4]\n",
            "[10, 20, 20, 10, 2, 6, 2, 3, 4]\n"
          ]
        }
      ]
    }
  ]
}