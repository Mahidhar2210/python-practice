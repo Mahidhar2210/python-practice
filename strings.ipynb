{
  "nbformat": 4,
  "nbformat_minor": 0,
  "metadata": {
    "colab": {
      "name": "strings.ipynb",
      "provenance": [],
      "authorship_tag": "ABX9TyOfZpHQrC+oOLlawB43+zYc",
      "include_colab_link": true
    },
    "kernelspec": {
      "name": "python3",
      "display_name": "Python 3"
    },
    "language_info": {
      "name": "python"
    }
  },
  "cells": [
    {
      "cell_type": "markdown",
      "metadata": {
        "id": "view-in-github",
        "colab_type": "text"
      },
      "source": [
        "<a href=\"https://colab.research.google.com/github/Mahidhar2210/python-practice/blob/strings/strings.ipynb\" target=\"_parent\"><img src=\"https://colab.research.google.com/assets/colab-badge.svg\" alt=\"Open In Colab\"/></a>"
      ]
    },
    {
      "cell_type": "code",
      "execution_count": null,
      "metadata": {
        "colab": {
          "base_uri": "https://localhost:8080/"
        },
        "id": "LiwNj4Lr5pUw",
        "outputId": "f8b677c7-250f-4668-a638-2c08fb628c15"
      },
      "outputs": [
        {
          "output_type": "stream",
          "name": "stdout",
          "text": [
            "name : mahidhar\n",
            "where are you coming from : sagar nagar\n",
            "name is : mahidhar\n",
            "coming from :  sagar nagar\n"
          ]
        }
      ],
      "source": [
        "a=str(input(\"name : \"))\n",
        "b=str(input(\"where are you coming from : \"))\n",
        "print(\"name is :\",a)\n",
        "print(\"coming from : \",b)"
      ]
    },
    {
      "cell_type": "code",
      "source": [
        "#length of a string\n",
        "a=str(input())\n",
        "print(len(a))"
      ],
      "metadata": {
        "colab": {
          "base_uri": "https://localhost:8080/"
        },
        "id": "6tzieq_R_YBK",
        "outputId": "9b7c5a48-16a8-4d78-cc16-4f277fa833af"
      },
      "execution_count": null,
      "outputs": [
        {
          "output_type": "stream",
          "name": "stdout",
          "text": [
            "jhfgksudhfgk\n",
            "12\n"
          ]
        }
      ]
    },
    {
      "cell_type": "code",
      "source": [
        "#check string\n",
        "a='this is a python class'\n",
        "print('python' in a, 'hello'in a)"
      ],
      "metadata": {
        "colab": {
          "base_uri": "https://localhost:8080/"
        },
        "id": "TWnndabE_6UR",
        "outputId": "fe2c4da6-a1b2-4e77-a9d7-b9e6dcfa09c0"
      },
      "execution_count": null,
      "outputs": [
        {
          "output_type": "stream",
          "name": "stdout",
          "text": [
            "True False\n"
          ]
        }
      ]
    },
    {
      "cell_type": "code",
      "source": [
        "#if not\n",
        "a='this is a python class'\n",
        "print(\"class\"not in a)"
      ],
      "metadata": {
        "colab": {
          "base_uri": "https://localhost:8080/"
        },
        "id": "i_lBqaOJBMqK",
        "outputId": "f1368650-a270-49a8-c327-6f1b47aa6713"
      },
      "execution_count": null,
      "outputs": [
        {
          "output_type": "stream",
          "name": "stdout",
          "text": [
            "False\n"
          ]
        }
      ]
    },
    {
      "cell_type": "code",
      "source": [
        "#slicing string\n",
        "a='kushwanth disappers in lunch'\n",
        "print(a[1:9])\n",
        "print(a[9:-1])"
      ],
      "metadata": {
        "colab": {
          "base_uri": "https://localhost:8080/"
        },
        "id": "7P3uAJ5WCOcK",
        "outputId": "f580683f-0a17-4b96-93be-9a7d1b12dc23"
      },
      "execution_count": null,
      "outputs": [
        {
          "output_type": "stream",
          "name": "stdout",
          "text": [
            "ushwanth\n",
            " disappers in lunc\n"
          ]
        }
      ]
    },
    {
      "cell_type": "code",
      "source": [
        "#reverse of a string\n",
        "a='this is a python class'"
      ],
      "metadata": {
        "id": "dgjeXUjpFeAc"
      },
      "execution_count": null,
      "outputs": []
    },
    {
      "cell_type": "code",
      "source": [
        "#modifying string\n",
        "a = \"hello, World!  \"\n",
        "print(a.lower())\n",
        "print(a.upper())\n",
        "print(a.replace('e','a'))\n",
        "print(a.strip())\n",
        "print(a.split(','))\n",
        "print(a.capitalize())"
      ],
      "metadata": {
        "colab": {
          "base_uri": "https://localhost:8080/"
        },
        "id": "hhDm2J9qGLeW",
        "outputId": "64114b25-08db-4161-8eb3-fa03c0218573"
      },
      "execution_count": null,
      "outputs": [
        {
          "output_type": "stream",
          "name": "stdout",
          "text": [
            "hello, world!  \n",
            "HELLO, WORLD!  \n",
            "hallo, World!  \n",
            "hello, World!\n",
            "['hello', ' World!  ']\n",
            "Hello, world!  \n"
          ]
        }
      ]
    },
    {
      "cell_type": "code",
      "source": [
        "#string concatination\n",
        "a='Mahi'\n",
        "b='dhar'\n",
        "print(a+b)"
      ],
      "metadata": {
        "colab": {
          "base_uri": "https://localhost:8080/"
        },
        "id": "7eBqaE47KJZ9",
        "outputId": "d8f7e426-cdbf-46e6-d3f3-9196cb9fa842"
      },
      "execution_count": null,
      "outputs": [
        {
          "output_type": "stream",
          "name": "stdout",
          "text": [
            "Mahidhar\n"
          ]
        }
      ]
    },
    {
      "cell_type": "code",
      "source": [
        "txt = \"Hello\\fWorld!\"\n",
        "print(txt) "
      ],
      "metadata": {
        "colab": {
          "base_uri": "https://localhost:8080/"
        },
        "id": "PvTyvLOvQ3Mt",
        "outputId": "0934541d-546d-4894-ef84-81f52f164407"
      },
      "execution_count": null,
      "outputs": [
        {
          "output_type": "stream",
          "name": "stdout",
          "text": [
            "Hello \fWorld!\n"
          ]
        }
      ]
    }
  ]
}