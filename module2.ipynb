{
  "nbformat": 4,
  "nbformat_minor": 0,
  "metadata": {
    "colab": {
      "name": "module2.ipynb",
      "provenance": [],
      "authorship_tag": "ABX9TyMaXecppBx+nBLtmGEThCfg",
      "include_colab_link": true
    },
    "kernelspec": {
      "name": "python3",
      "display_name": "Python 3"
    },
    "language_info": {
      "name": "python"
    }
  },
  "cells": [
    {
      "cell_type": "markdown",
      "metadata": {
        "id": "view-in-github",
        "colab_type": "text"
      },
      "source": [
        "<a href=\"https://colab.research.google.com/github/Mahidhar2210/python-practice/blob/module2/module2.ipynb\" target=\"_parent\"><img src=\"https://colab.research.google.com/assets/colab-badge.svg\" alt=\"Open In Colab\"/></a>"
      ]
    },
    {
      "cell_type": "code",
      "execution_count": null,
      "metadata": {
        "colab": {
          "base_uri": "https://localhost:8080/"
        },
        "id": "F7Ui7kOLFIPg",
        "outputId": "4fe7b8cd-9591-4a96-f48f-05b60681c9e1"
      },
      "outputs": [
        {
          "output_type": "stream",
          "name": "stdout",
          "text": [
            "enter a number :4\n",
            "enter a number :2\n",
            "6.0\n"
          ]
        }
      ],
      "source": [
        "# Create a function which accepts two inputs from the user and compute nCr\n",
        "def ncr(n,r):\n",
        "  nf,rf,sf=1,1,1\n",
        "  for i in range(1,n+1):\n",
        "    nf=nf*i\n",
        "  for i in range(1,r+1):\n",
        "    rf=rf*i\n",
        "  for i in range(1,n-r+1):\n",
        "    sf=sf*i\n",
        "  ncr=nf/(rf*sf)\n",
        "  return ncr\n",
        "n=int(input(\"enter a number :\"))\n",
        "r=int(input(\"enter a number :\"))\n",
        "print(ncr(n,r))"
      ]
    },
    {
      "cell_type": "code",
      "source": [
        "# Program to print a specified list after removing the 0th, 4th and 5th elements.\n",
        "# Sample List : ['Red', 'Green', 'White', 'Black', 'Pink', 'Yellow']\n",
        "# Expected Output : ['Green', 'White', 'Black']\n",
        "def list(a):\n",
        "  a.pop(0)\n",
        "  a.pop(3)\n",
        "  a.pop(3)\n",
        "  return a\n",
        "a= ['Red', 'Green', 'White', 'Black', 'Pink', 'Yellow']\n",
        "print(list(a))"
      ],
      "metadata": {
        "colab": {
          "base_uri": "https://localhost:8080/"
        },
        "id": "PpL5mK0GJBRS",
        "outputId": "41a5b668-393b-4441-8089-5038f01aa6bb"
      },
      "execution_count": null,
      "outputs": [
        {
          "output_type": "stream",
          "name": "stdout",
          "text": [
            "['Green', 'White', 'Black']\n"
          ]
        }
      ]
    },
    {
      "cell_type": "code",
      "source": [
        "#Program to get the difference between the two lists\n",
        "def diff(a,b):\n",
        "  a=set(a)\n",
        "  b=set(b)\n",
        "  x=a^b\n",
        "  x=list(x)\n",
        "  return x\n",
        "a=['Red', 'Green', 'White', 'Black', 'Pink', 'Yellow']\n",
        "b=['Red', 'Green', 'White']\n",
        "print(diff(a,b))"
      ],
      "metadata": {
        "colab": {
          "base_uri": "https://localhost:8080/"
        },
        "id": "nXTwNCZ8sQzQ",
        "outputId": "f8968c08-e33e-451c-a369-460730ccfa0c"
      },
      "execution_count": null,
      "outputs": [
        {
          "output_type": "stream",
          "name": "stdout",
          "text": [
            "['Yellow', 'Pink', 'Black']\n"
          ]
        }
      ]
    },
    {
      "cell_type": "code",
      "source": [
        "#Program to find the second smallest number and second largest number in a list\n",
        "def Minlar(a):\n",
        "  a.sort()\n",
        "  return a[1],a[-2]\n",
        "a=[20,100,30,40,30,80,50,60,45]\n",
        "print(Minlar(a))"
      ],
      "metadata": {
        "colab": {
          "base_uri": "https://localhost:8080/"
        },
        "id": "vJZM9SJKuduP",
        "outputId": "2512decf-f7a5-46b9-cb60-8a6ab66e670e"
      },
      "execution_count": null,
      "outputs": [
        {
          "output_type": "stream",
          "name": "stdout",
          "text": [
            "(30, 80)\n"
          ]
        }
      ]
    },
    {
      "cell_type": "code",
      "source": [
        "#Given a list of numbers of list, write a Python program to create a list of tuples\n",
        "# having first element as the number and second element as the square of the\n",
        "# number.\n",
        "def list(a):\n",
        "  b=[]\n",
        "  for i in a:\n",
        "    x=tuple((i,i*i))\n",
        "    b.append(x)\n",
        "  return b\n",
        "a=[1,2,3,4,5,6,7,8,9]\n",
        "print(list(a))"
      ],
      "metadata": {
        "colab": {
          "base_uri": "https://localhost:8080/"
        },
        "id": "Ezc2ZfhXvs0V",
        "outputId": "3c797d07-02b0-4662-f226-79c7077f46cf"
      },
      "execution_count": null,
      "outputs": [
        {
          "output_type": "stream",
          "name": "stdout",
          "text": [
            "[(1, 1), (2, 4), (3, 9), (4, 16), (5, 25), (6, 36), (7, 49), (8, 64), (9, 81)]\n"
          ]
        }
      ]
    },
    {
      "cell_type": "code",
      "source": [
        "# Given list of tuples, remove all the tuples with length K.\n",
        "# Input : test_list = [(4, 5), (4, ), (8, 6, 7), (1, ), (3, 4, 6, 7)], K = 2\n",
        "# Output : [(4, ), (8, 6, 7), (1, ), (3, 4, 6, 7)]\n",
        "# Explanation : (4, 5) of len = 2 is removed.\n",
        "def rem(a,k):\n",
        "  for i in a:\n",
        "    if(len(i)==k):\n",
        "      a.remove(i)\n",
        "  return a\n",
        "a=[(4, 5), (4, ), (8, 6, 7), (1, ), (3, 4, 6, 7)]\n",
        "k=2\n",
        "print(rem(a,k))"
      ],
      "metadata": {
        "colab": {
          "base_uri": "https://localhost:8080/"
        },
        "id": "ertYnV8Rxf2g",
        "outputId": "1fc18763-a53c-4d14-ebd8-09ba2533b771"
      },
      "execution_count": null,
      "outputs": [
        {
          "output_type": "stream",
          "name": "stdout",
          "text": [
            "[(4,), (8, 6, 7), (1,), (3, 4, 6, 7)]\n"
          ]
        }
      ]
    },
    {
      "cell_type": "code",
      "source": [
        "# Program to generate and print a dictionary that contains a number (between 1\n",
        "# and n) in the form (x, x*x).\n",
        "# Sample Input: (n=5) :\n",
        "# Expected Output : {1: 1, 2: 4, 3: 9, 4: 16, 5: 25}\n",
        "def dict(a):\n",
        "  b={}\n",
        "  for i in range(1,a+1):\n",
        "    b[i]=i*i\n",
        "  return b\n",
        "a=5\n",
        "print(dict(a))"
      ],
      "metadata": {
        "colab": {
          "base_uri": "https://localhost:8080/"
        },
        "id": "CSr5IYP51O_Y",
        "outputId": "ce1fee19-c1ea-47f3-827f-fc2faac8384b"
      },
      "execution_count": null,
      "outputs": [
        {
          "output_type": "stream",
          "name": "stdout",
          "text": [
            "{1: 1, 2: 4, 3: 9, 4: 16, 5: 25}\n"
          ]
        }
      ]
    },
    {
      "cell_type": "code",
      "source": [
        "#Program to remove a key from a dictionary\n",
        "def dic(a,b):\n",
        "  a.pop(b)\n",
        "  return a\n",
        "d={1: 1, 2: 4, 3: 9, 4: 16, 5: 25}\n",
        "b=int(input())\n",
        "print(dic(d,b))"
      ],
      "metadata": {
        "colab": {
          "base_uri": "https://localhost:8080/"
        },
        "id": "8v6i0sbU2YyD",
        "outputId": "7a2c40da-dd63-4714-a801-c20384fb6b99"
      },
      "execution_count": null,
      "outputs": [
        {
          "output_type": "stream",
          "name": "stdout",
          "text": [
            "3\n",
            "{1: 1, 2: 4, 4: 16, 5: 25}\n"
          ]
        }
      ]
    },
    {
      "cell_type": "code",
      "source": [
        "#Program to get the maximum and minimum value in a dictionary\n",
        "def dic(a):\n",
        "  s=sorted(a)\n",
        "  return s[0],s[-1]\n",
        "d={1: 1, 2: 4, 3: 9, 4: 16, 5: 25}\n",
        "a,b=dic(d)\n",
        "print(d[a],',',d[b])\n"
      ],
      "metadata": {
        "colab": {
          "base_uri": "https://localhost:8080/"
        },
        "id": "MH_5SzFI55xk",
        "outputId": "5170de45-9572-40fd-a244-ad27406f373b"
      },
      "execution_count": null,
      "outputs": [
        {
          "output_type": "stream",
          "name": "stdout",
          "text": [
            "1 , 25\n"
          ]
        }
      ]
    },
    {
      "cell_type": "code",
      "source": [
        "#Program to perform operations on string using unicodes ,splitting of string,accessing elements of string using locations\n",
        "a=input()\n",
        "x=a.split()\n",
        "n=int(input(\"Enter index number \"))\n",
        "y=a[n]\n",
        "print(x)\n",
        "print(y)\n"
      ],
      "metadata": {
        "colab": {
          "base_uri": "https://localhost:8080/"
        },
        "id": "RaugAMQycPIe",
        "outputId": "e7343bfa-a1b3-43e4-dcb4-42cb367c86b7"
      },
      "execution_count": null,
      "outputs": [
        {
          "output_type": "stream",
          "name": "stdout",
          "text": [
            "this is python class\n",
            "Enter index number 3\n",
            "['this', 'is', 'python', 'class']\n",
            "s\n"
          ]
        }
      ]
    },
    {
      "cell_type": "code",
      "source": [
        "# Program for Counting occurrence of a certain element in a string, getting indexes that\n",
        "# have matching elements.For ex -.In Rabbit count how many times b has occurred .\n",
        "# Example-I have to go to a doctor and get myself checked. Count the number of\n",
        "# occurrences of 'to'.\n",
        "a=input(\"enter string :\")\n",
        "b=input(\"enter string to be counted :\")\n",
        "print(a.count(b))"
      ],
      "metadata": {
        "colab": {
          "base_uri": "https://localhost:8080/"
        },
        "id": "T9FRTPFgfRtx",
        "outputId": "1266b92b-4b05-4f90-e6bf-9d62c87ef2f7"
      },
      "execution_count": null,
      "outputs": [
        {
          "output_type": "stream",
          "name": "stdout",
          "text": [
            "enter string :I have to go to a doctor and get myself checked.\n",
            "enter string to be counted :to\n",
            "3\n"
          ]
        }
      ]
    },
    {
      "cell_type": "code",
      "source": [
        "# Program for replacing one substring by another For example - Rabbit - Replace 'bb' by 'cc'\n",
        "a=input(\"Enter your string :\")\n",
        "b=input(\"Enter substring to be replaced :\")\n",
        "c=input(\"Enter replacing substring :\")\n",
        "s=a.replace(b,c)\n",
        "print(s)"
      ],
      "metadata": {
        "colab": {
          "base_uri": "https://localhost:8080/"
        },
        "id": "q48HcQLEfptI",
        "outputId": "18c37b1d-fff1-4f73-98f7-0a8bfd61ba9e"
      },
      "execution_count": null,
      "outputs": [
        {
          "output_type": "stream",
          "name": "stdout",
          "text": [
            "Enter your string :rabbit\n",
            "Enter substring to be replaced :bb\n",
            "Enter replacing substring :cc\n",
            "raccit\n"
          ]
        }
      ]
    },
    {
      "cell_type": "code",
      "source": [
        "# Program to Acronym generator for any user input (ex-input is Random memory access\n",
        "# then output should be RMA).Example - Random number (RN)\n",
        "a=input()\n",
        "s=a.split()\n",
        "d=[]\n",
        "for i in range(len(s)) :\n",
        "  b=s[i]\n",
        "  c=b[0]\n",
        "  c=c.upper()\n",
        "  d.append(c)\n",
        "for i in range (len(d)) :\n",
        "  print(d[i] , end =\"\")"
      ],
      "metadata": {
        "colab": {
          "base_uri": "https://localhost:8080/"
        },
        "id": "p1QnCS29hxT0",
        "outputId": "cd0136d7-cd5d-42fc-fd7e-79e2266ed5a5"
      },
      "execution_count": null,
      "outputs": [
        {
          "output_type": "stream",
          "name": "stdout",
          "text": [
            "Random memory access\n",
            "RMA"
          ]
        }
      ]
    },
    {
      "cell_type": "code",
      "source": [
        "# Program to count the number of strings where the string length is 2 or more and\n",
        "# the first and last character are same from a given list of strings \n",
        "a=input()\n",
        "s=a.split()\n",
        "for i in s:\n",
        "  c=0\n",
        "  l=len(i)\n",
        "  if i[0]==i[l-1] and l>2:\n",
        "    c+=1\n",
        "print(c)"
      ],
      "metadata": {
        "id": "slNbxa4qkPWt"
      },
      "execution_count": null,
      "outputs": []
    },
    {
      "cell_type": "code",
      "source": [
        "# Python function that accepts a string and calculates the number of uppercase\n",
        "# letters and lowercase letters.\n",
        "a=input()\n",
        "u=0\n",
        "l=0\n",
        "for i in a:\n",
        "  if i>='A' and i<='Z':\n",
        "    u+=1\n",
        "  else:\n",
        "    l+=1\n",
        "print(\"Uppercase : \",u)\n",
        "print(\"lowercase :\",l)"
      ],
      "metadata": {
        "colab": {
          "base_uri": "https://localhost:8080/"
        },
        "id": "kSHBd_PAlgHI",
        "outputId": "ec80b335-e984-45d4-ce4c-934ded67f849"
      },
      "execution_count": null,
      "outputs": [
        {
          "output_type": "stream",
          "name": "stdout",
          "text": [
            "MahiDhar\n",
            "Uppercase :  2\n",
            "lowercase : 6\n"
          ]
        }
      ]
    },
    {
      "cell_type": "code",
      "source": [
        "#Recursive function to compute GCD of 2 numbers\n",
        "def gcd(a,b) :\n",
        "  k=a if (a<b) else b\n",
        "  while True:\n",
        "    if(a%k==0 and b%k==0):\n",
        "      break\n",
        "    k-=1\n",
        "  return k\n",
        "a=int(input())\n",
        "b=int(input())\n",
        "s=gcd(a,b)\n",
        "print(s)\n"
      ],
      "metadata": {
        "colab": {
          "base_uri": "https://localhost:8080/"
        },
        "id": "7sdsDdlqmIYg",
        "outputId": "da85d465-2354-4e16-d49b-68c9337e346c"
      },
      "execution_count": null,
      "outputs": [
        {
          "output_type": "stream",
          "name": "stdout",
          "text": [
            "5\n",
            "3\n",
            "1\n"
          ]
        }
      ]
    },
    {
      "cell_type": "code",
      "source": [
        "#Recursive function to find product of two numbers\n",
        "def prod(a,b):\n",
        "    if(a<b):\n",
        "        return prod(b,a)\n",
        "    elif(b!=0):\n",
        "        return(a+prod(a,b-1))\n",
        "    else:\n",
        "        return 0\n",
        "a=int(input())\n",
        "b=int(input())\n",
        "print(prod(a,b))"
      ],
      "metadata": {
        "colab": {
          "base_uri": "https://localhost:8080/"
        },
        "id": "wFB8X1YdmqwT",
        "outputId": "2a31f786-655e-4a24-9ade-3eaeee98038d"
      },
      "execution_count": null,
      "outputs": [
        {
          "output_type": "stream",
          "name": "stdout",
          "text": [
            "4\n",
            "5\n",
            "20\n"
          ]
        }
      ]
    },
    {
      "cell_type": "code",
      "source": [
        "#Recursive function to generate Fibonacci series\n",
        "def fibb(n):\n",
        "  if n<=1 :\n",
        "    return 1\n",
        "  else :\n",
        "    return fibb(n-1)+fibb(n-2)\n",
        "a=int(input())\n",
        "for i in range(a) :\n",
        "  print(fibb(i),end=\" \")\n"
      ],
      "metadata": {
        "colab": {
          "base_uri": "https://localhost:8080/"
        },
        "id": "DLwQUMjwn7fu",
        "outputId": "56f4d555-182e-4aba-a946-4e69ffb07429"
      },
      "execution_count": null,
      "outputs": [
        {
          "output_type": "stream",
          "name": "stdout",
          "text": [
            "5\n",
            "1 1 2 3 5 "
          ]
        }
      ]
    }
  ]
}