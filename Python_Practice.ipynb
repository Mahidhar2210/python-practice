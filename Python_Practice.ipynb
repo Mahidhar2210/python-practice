{
  "nbformat": 4,
  "nbformat_minor": 0,
  "metadata": {
    "colab": {
      "name": "Python_Practice.ipynb",
      "provenance": [],
      "authorship_tag": "ABX9TyPHNwwn74onqG+dg+a9+hc2",
      "include_colab_link": true
    },
    "kernelspec": {
      "name": "python3",
      "display_name": "Python 3"
    },
    "language_info": {
      "name": "python"
    }
  },
  "cells": [
    {
      "cell_type": "markdown",
      "metadata": {
        "id": "view-in-github",
        "colab_type": "text"
      },
      "source": [
        "<a href=\"https://colab.research.google.com/github/Mahidhar2210/python-practice/blob/module1/Python_Practice.ipynb\" target=\"_parent\"><img src=\"https://colab.research.google.com/assets/colab-badge.svg\" alt=\"Open In Colab\"/></a>"
      ]
    },
    {
      "cell_type": "code",
      "execution_count": null,
      "metadata": {
        "colab": {
          "base_uri": "https://localhost:8080/"
        },
        "id": "AvcuDZ_8Iqvf",
        "outputId": "55f5678b-6d41-4219-8ab8-1cfe41801020"
      },
      "outputs": [
        {
          "output_type": "stream",
          "name": "stdout",
          "text": [
            "13.333333333333334\n",
            "<class 'float'>\n"
          ]
        }
      ],
      "source": [
        "a=20; b=10; c=10; avg=(a+b+c)/3;\n",
        "print(avg);\n",
        "print(type(avg))"
      ]
    },
    {
      "cell_type": "code",
      "source": [
        ""
      ],
      "metadata": {
        "id": "lhT5mS55dV1k"
      },
      "execution_count": null,
      "outputs": []
    },
    {
      "cell_type": "code",
      "source": [
        "#average\n",
        "a=int(input(\"enter a number1 : \"))\n",
        "b=int(input(\"enter a number2 : \"))\n",
        "c=float(input(\"enter a number3 : \"))\n",
        "avg=(a+b+c)/3;\n",
        "print(avg);\n",
        "print(type(avg));"
      ],
      "metadata": {
        "colab": {
          "base_uri": "https://localhost:8080/"
        },
        "id": "UHK1TQQJKTod",
        "outputId": "dcea6dfc-167c-4852-9b5c-2ed11d20484b"
      },
      "execution_count": null,
      "outputs": [
        {
          "output_type": "stream",
          "name": "stdout",
          "text": [
            "enter a number1 : 10\n",
            "enter a number2 : 2\n",
            "enter a number3 : 3\n",
            "5.0\n",
            "<class 'float'>\n"
          ]
        }
      ]
    }
  ]
}