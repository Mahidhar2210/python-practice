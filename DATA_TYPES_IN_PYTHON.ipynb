{
  "cells": [
    {
      "cell_type": "markdown",
      "metadata": {
        "id": "view-in-github",
        "colab_type": "text"
      },
      "source": [
        "<a href=\"https://colab.research.google.com/github/Mahidhar2210/python-practice/blob/convertion-of-data-types/DATA_TYPES_IN_PYTHON.ipynb\" target=\"_parent\"><img src=\"https://colab.research.google.com/assets/colab-badge.svg\" alt=\"Open In Colab\"/></a>"
      ]
    },
    {
      "cell_type": "markdown",
      "id": "3cdb97e7",
      "metadata": {
        "id": "3cdb97e7"
      },
      "source": [
        "# Data types in python \n"
      ]
    },
    {
      "cell_type": "markdown",
      "id": "54cd6097",
      "metadata": {
        "id": "54cd6097"
      },
      "source": [
        "## CONVERTING INT TO STRING,FLOAT,BOOLEAN,COMPLEX"
      ]
    },
    {
      "cell_type": "code",
      "execution_count": null,
      "id": "70f15107",
      "metadata": {
        "id": "70f15107",
        "outputId": "430108b9-5a2b-4196-9daf-46a64162b77f"
      },
      "outputs": [
        {
          "name": "stdout",
          "output_type": "stream",
          "text": [
            "10\n",
            "<class 'int'>\n",
            "10\n",
            "<class 'str'>\n",
            "10.0\n",
            "<class 'float'>\n",
            "True\n",
            "<class 'bool'>\n",
            "(10+0j)\n",
            "<class 'complex'>\n"
          ]
        }
      ],
      "source": [
        "a=10\n",
        "print(a)\n",
        "#before convertion after conversion\n",
        "print(type(a))\n",
        "b=str(a)\n",
        "print(b)\n",
        "print(type(b))\n",
        "c=float(a)\n",
        "print(c)\n",
        "print(type(c))\n",
        "d=bool(a)\n",
        "print(d)\n",
        "print(type(d))\n",
        "e=complex(a)\n",
        "print(e)\n",
        "print(type(e))\n"
      ]
    },
    {
      "cell_type": "markdown",
      "id": "2f23a47e",
      "metadata": {
        "id": "2f23a47e"
      },
      "source": [
        "## CONVERTING STRING TO INT,FLOAT,BOOLEAN,COMPLEX"
      ]
    },
    {
      "cell_type": "code",
      "execution_count": 1,
      "id": "f6cb4340",
      "metadata": {
        "colab": {
          "base_uri": "https://localhost:8080/"
        },
        "id": "f6cb4340",
        "outputId": "ed651032-0dc7-4ea2-9ece-87aa2d07d024"
      },
      "outputs": [
        {
          "output_type": "stream",
          "name": "stdout",
          "text": [
            "10\n",
            "<class 'str'>\n",
            "10\n",
            "<class 'int'>\n",
            "10.0\n",
            "<class 'float'>\n",
            "True\n",
            "<class 'bool'>\n",
            "(10+0j)\n",
            "<class 'complex'>\n"
          ]
        }
      ],
      "source": [
        "a='10'\n",
        "print(a)\n",
        "print(type(a))\n",
        "b=int(a)\n",
        "print(b)\n",
        "print(type(b))\n",
        "#can't convert alphabets into integers, give digits to convert into integers.\n",
        "c=float(a)\n",
        "print(c)\n",
        "print(type(c))\n",
        "d=bool(a)\n",
        "print(d)\n",
        "print(type(d))\n",
        "e=complex(a)\n",
        "print(e)\n",
        "print(type(e))"
      ]
    },
    {
      "cell_type": "markdown",
      "id": "9d184a07",
      "metadata": {
        "id": "9d184a07"
      },
      "source": [
        "## CONVERTING FLOAT TO INT,STRING,BOOLEAN,COMPLEX"
      ]
    },
    {
      "cell_type": "code",
      "execution_count": null,
      "id": "83f64d0e",
      "metadata": {
        "id": "83f64d0e",
        "outputId": "dab0ccd1-b6db-4b13-a174-d629fd759d66"
      },
      "outputs": [
        {
          "name": "stdout",
          "output_type": "stream",
          "text": [
            "10.0\n",
            "<class 'float'>\n",
            "10\n",
            "<class 'int'>\n",
            "10.0\n",
            "<class 'str'>\n",
            "True\n",
            "<class 'bool'>\n",
            "(10+0j)\n",
            "<class 'complex'>\n"
          ]
        }
      ],
      "source": [
        "a=10.0\n",
        "print(a)\n",
        "print(type(a))\n",
        "b=int(a)\n",
        "print(b)\n",
        "print(type(b))\n",
        "c=str(a)\n",
        "print(c)\n",
        "print(type(c))\n",
        "d=bool(a)\n",
        "print(d)\n",
        "print(type(d))\n",
        "e=complex(a)\n",
        "print(e)\n",
        "print(type(e))"
      ]
    },
    {
      "cell_type": "markdown",
      "id": "2b24594a",
      "metadata": {
        "id": "2b24594a"
      },
      "source": [
        "## CONVERTING BOOLEAN TO INT,FLOAT,STRING,COMPLEX"
      ]
    },
    {
      "cell_type": "code",
      "execution_count": null,
      "id": "f1807e03",
      "metadata": {
        "id": "f1807e03",
        "outputId": "59f61243-ceb0-44c6-aae7-1cdb2a0ba598"
      },
      "outputs": [
        {
          "name": "stdout",
          "output_type": "stream",
          "text": [
            "True\n",
            "<class 'bool'>\n",
            "1\n",
            "<class 'int'>\n",
            "1.0\n",
            "<class 'float'>\n",
            "True\n",
            "<class 'str'>\n",
            "(1+0j)\n",
            "<class 'complex'>\n"
          ]
        }
      ],
      "source": [
        "a=True\n",
        "print(a)\n",
        "print(type(a))\n",
        "b=int(a)\n",
        "print(b)\n",
        "print(type(b))\n",
        "c=float(a)\n",
        "print(c)\n",
        "print(type(c))\n",
        "d=str(a)\n",
        "print(d)\n",
        "print(type(d))\n",
        "e=complex(a)\n",
        "print(e)\n",
        "print(type(e))"
      ]
    },
    {
      "cell_type": "markdown",
      "id": "a2780dce",
      "metadata": {
        "id": "a2780dce"
      },
      "source": [
        "## CONVERTING COMPLEX TO INT,FLOAT,STRING,BOOLEAN"
      ]
    },
    {
      "cell_type": "code",
      "execution_count": 2,
      "id": "171e39fb",
      "metadata": {
        "colab": {
          "base_uri": "https://localhost:8080/"
        },
        "id": "171e39fb",
        "outputId": "f5d3dca8-52ad-43df-eb34-151496f6d5e3"
      },
      "outputs": [
        {
          "output_type": "stream",
          "name": "stdout",
          "text": [
            "(10+0j)\n",
            "<class 'complex'>\n",
            "10\n",
            "<class 'int'>\n",
            "10.0\n",
            "<class 'float'>\n",
            "(10+0j)\n",
            "<class 'str'>\n",
            "True\n",
            "<class 'bool'>\n"
          ]
        }
      ],
      "source": [
        "a=(10+0J)\n",
        "print(a)\n",
        "print(type(a))\n",
        "#can't convert complex into int,float,string,boolean\n",
        "#b=int(a)\n",
        "print(b)\n",
        "print(type(b))\n",
        "#c=float(a)\n",
        "print(c)\n",
        "print(type(c))\n",
        "d=str(a)\n",
        "print(d)\n",
        "print(type(d))\n",
        "e=bool(a)\n",
        "print(e)\n",
        "print(type(e))"
      ]
    },
    {
      "cell_type": "code",
      "execution_count": null,
      "id": "4be9a9c2",
      "metadata": {
        "id": "4be9a9c2"
      },
      "outputs": [],
      "source": [
        ""
      ]
    }
  ],
  "metadata": {
    "kernelspec": {
      "display_name": "Python 3 (ipykernel)",
      "language": "python",
      "name": "python3"
    },
    "language_info": {
      "codemirror_mode": {
        "name": "ipython",
        "version": 3
      },
      "file_extension": ".py",
      "mimetype": "text/x-python",
      "name": "python",
      "nbconvert_exporter": "python",
      "pygments_lexer": "ipython3",
      "version": "3.9.7"
    },
    "colab": {
      "name": "DATA TYPES IN PYTHON.ipynb",
      "provenance": [],
      "include_colab_link": true
    }
  },
  "nbformat": 4,
  "nbformat_minor": 5
}