{
  "nbformat": 4,
  "nbformat_minor": 0,
  "metadata": {
    "colab": {
      "name": "control statements.ipynb",
      "provenance": [],
      "authorship_tag": "ABX9TyPhFhFQHiVDXhte3QpTMTlV",
      "include_colab_link": true
    },
    "kernelspec": {
      "name": "python3",
      "display_name": "Python 3"
    },
    "language_info": {
      "name": "python"
    }
  },
  "cells": [
    {
      "cell_type": "markdown",
      "metadata": {
        "id": "view-in-github",
        "colab_type": "text"
      },
      "source": [
        "<a href=\"https://colab.research.google.com/github/Mahidhar2210/python-practice/blob/control_structures/control_statements.ipynb\" target=\"_parent\"><img src=\"https://colab.research.google.com/assets/colab-badge.svg\" alt=\"Open In Colab\"/></a>"
      ]
    },
    {
      "cell_type": "code",
      "execution_count": 4,
      "metadata": {
        "colab": {
          "base_uri": "https://localhost:8080/"
        },
        "id": "svTp7k74Ptxr",
        "outputId": "5a83b156-cdf5-4f87-daa0-19f4fe11d7f9"
      },
      "outputs": [
        {
          "output_type": "stream",
          "name": "stdout",
          "text": [
            "enter age : 18\n",
            "eligible\n"
          ]
        }
      ],
      "source": [
        "#find out the person the person is eligible for voting or not\n",
        "a=int(input(\"enter age : \"))\n",
        "if(a>=18):\n",
        " print(\"eligible\")\n",
        "else:\n",
        " print(\"not eligible\")"
      ]
    },
    {
      "cell_type": "code",
      "source": [
        "a=10\n",
        "if(a>=18):\n",
        " print(\"eligible\")\n",
        "else:\n",
        " print(\"not eligible\")"
      ],
      "metadata": {
        "colab": {
          "base_uri": "https://localhost:8080/"
        },
        "id": "IbVE-9JRQ6FL",
        "outputId": "58d33e63-1172-40f6-af58-7cc5031d8b2f"
      },
      "execution_count": 5,
      "outputs": [
        {
          "output_type": "stream",
          "name": "stdout",
          "text": [
            "not eligible\n"
          ]
        }
      ]
    },
    {
      "cell_type": "code",
      "source": [
        "#max of three numbers\n",
        "a=int(input(\"enter a number : \"))\n",
        "b=int(input(\"enter second number : \"))\n",
        "c=int(input(\"enter third number : \"))\n",
        "if(a>b and a>c):\n",
        "  print(\"a is greater\")\n",
        "elif(b>a and b>c):\n",
        "  print(\"b is greater\")\n",
        "else:\n",
        " print(\"c is greater\")"
      ],
      "metadata": {
        "colab": {
          "base_uri": "https://localhost:8080/"
        },
        "id": "uTKzDv1PRvL3",
        "outputId": "af280d6f-40a6-41c6-f78f-b5fcb764c660"
      },
      "execution_count": 17,
      "outputs": [
        {
          "output_type": "stream",
          "name": "stdout",
          "text": [
            "enter a number : 10\n",
            "enter second number : 20\n",
            "enter third number : 30\n",
            "c is greater\n"
          ]
        }
      ]
    },
    {
      "cell_type": "code",
      "source": [
        "#min of three numbers\n",
        "a=int(input(\"enter a number : \"))\n",
        "b=int(input(\"enter second number : \"))\n",
        "c=int(input(\"enter third number : \"))\n",
        "if(a<b and a<c):\n",
        "  print(\"a is minimum\")\n",
        "elif(b<a and b<c):\n",
        "  print(\"b is minimum\")\n",
        "else:\n",
        " print(\"c is minimum\")"
      ],
      "metadata": {
        "colab": {
          "base_uri": "https://localhost:8080/"
        },
        "id": "wmhOiioPb53U",
        "outputId": "c4503d0f-2bec-484a-9a9a-7e016c7be75b"
      },
      "execution_count": 31,
      "outputs": [
        {
          "output_type": "stream",
          "name": "stdout",
          "text": [
            "enter a number : 1\n",
            "enter second number : 2\n",
            "enter third number : 3\n",
            "a is minimum\n"
          ]
        }
      ]
    },
    {
      "cell_type": "code",
      "source": [
        "#postive or negetive or zero\n",
        "a=int(input())\n",
        "if(a==0):\n",
        "  print(\"zero\")\n",
        "elif(a>0):\n",
        "  print(\"positive\")\n",
        "else:\n",
        "  print(\"negetive\")"
      ],
      "metadata": {
        "colab": {
          "base_uri": "https://localhost:8080/"
        },
        "id": "MXWshO7Kd52F",
        "outputId": "740ddf2b-db45-43f5-ec31-29c84eacbc20"
      },
      "execution_count": 32,
      "outputs": [
        {
          "output_type": "stream",
          "name": "stdout",
          "text": [
            "3\n",
            "positive\n"
          ]
        }
      ]
    },
    {
      "cell_type": "code",
      "source": [
        "a=float(input(\"enter s1 marks : \"))\n",
        "b=float(input(\"enter s2 marks : \"))\n",
        "c=float(input(\"enter s3 marks : \"))\n",
        "d=float(input(\"enter s4 marks : \"))\n",
        "e=float(input(\"enter s5 marks : \"))\n",
        "print(max(a,b,c,d,e))"
      ],
      "metadata": {
        "colab": {
          "base_uri": "https://localhost:8080/"
        },
        "id": "pE6tsB_XUPZ9",
        "outputId": "ba11c6dc-08ca-4bf8-8345-e85e21f8814b"
      },
      "execution_count": 22,
      "outputs": [
        {
          "output_type": "stream",
          "name": "stdout",
          "text": [
            "enter s1 marks : 10\n",
            "enter s2 marks : 20\n",
            "enter s3 marks : 30\n",
            "enter s4 marks : 20\n",
            "enter s5 marks : 40\n",
            "40.0\n"
          ]
        }
      ]
    },
    {
      "cell_type": "code",
      "source": [
        "#type of triangle\n",
        "a=int(input(\"enter side 1\"))\n",
        "b=int(input(\"enter side 2\"))\n",
        "c=int(input(\"enter side 3\"))\n",
        "if(a+b>c and a+c>b and b+c>a):\n",
        "  if(a==b and b==c):\n",
        "    print(\"equilateral\")\n",
        "  elif(a==b or b==c):\n",
        "    print(\"isoceleus\")\n",
        "  else:\n",
        "    print(\"scalene\")\n",
        "else:\n",
        "  print(\"triangle not possible\")\n"
      ],
      "metadata": {
        "colab": {
          "base_uri": "https://localhost:8080/"
        },
        "id": "K7qv0GdbWJiK",
        "outputId": "d542c96d-9fd8-4346-c8bf-1fb9593aa701"
      },
      "execution_count": 27,
      "outputs": [
        {
          "output_type": "stream",
          "name": "stdout",
          "text": [
            "enter side 11\n",
            "enter side 23\n",
            "enter side 333\n",
            "triangle not possible\n"
          ]
        }
      ]
    },
    {
      "cell_type": "code",
      "source": [
        "#leap year\n",
        "a=int(input())\n",
        "if(a%4==0):\n",
        "  if(a%100==0):\n",
        "    if(a%400==0):\n",
        "      print(\"leap year\")\n",
        "    else:\n",
        "      print(\"not leap year\")\n",
        "  else:\n",
        "     print(\"leap year\")\n",
        "else:\n",
        "  print(\"not leap year\")\n",
        "    "
      ],
      "metadata": {
        "colab": {
          "base_uri": "https://localhost:8080/"
        },
        "id": "58YcdiZXZWEB",
        "outputId": "ea58a2b0-6121-4d2a-ac08-9a4946218d08"
      },
      "execution_count": 29,
      "outputs": [
        {
          "output_type": "stream",
          "name": "stdout",
          "text": [
            "2012\n",
            "leap year\n"
          ]
        }
      ]
    }
  ]
}