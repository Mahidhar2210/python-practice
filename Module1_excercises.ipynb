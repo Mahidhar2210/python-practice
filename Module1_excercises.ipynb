{
  "nbformat": 4,
  "nbformat_minor": 0,
  "metadata": {
    "colab": {
      "name": "Module1_excercises.ipynb",
      "provenance": [],
      "authorship_tag": "ABX9TyPPfCHEdifrEMSXwkOyflE0",
      "include_colab_link": true
    },
    "kernelspec": {
      "name": "python3",
      "display_name": "Python 3"
    },
    "language_info": {
      "name": "python"
    }
  },
  "cells": [
    {
      "cell_type": "markdown",
      "metadata": {
        "id": "view-in-github",
        "colab_type": "text"
      },
      "source": [
        "<a href=\"https://colab.research.google.com/github/Mahidhar2210/python-practice/blob/module1Exercise/Module1_excercises.ipynb\" target=\"_parent\"><img src=\"https://colab.research.google.com/assets/colab-badge.svg\" alt=\"Open In Colab\"/></a>"
      ]
    },
    {
      "cell_type": "code",
      "execution_count": null,
      "metadata": {
        "colab": {
          "base_uri": "https://localhost:8080/"
        },
        "id": "vmk3_zLhRubx",
        "outputId": "66bba8d2-90bb-4db7-f0bf-d85516998123"
      },
      "outputs": [
        {
          "output_type": "stream",
          "name": "stdout",
          "text": [
            "enter a nunber1\n",
            "1\n"
          ]
        }
      ],
      "source": [
        "#Accept input from user and store it in variable and print the value.\n",
        "a=int(input(\"enter a nunber\"))\n",
        "print(a)"
      ]
    },
    {
      "cell_type": "code",
      "source": [
        "#Use of print statements and use of (.format )for printing different data types.\n",
        "a=\"i am {name},I am {age} class\".format(name=\"mahidhar\",age=18)\n",
        "print(a)"
      ],
      "metadata": {
        "colab": {
          "base_uri": "https://localhost:8080/"
        },
        "id": "DZ6GdITNSlaU",
        "outputId": "32deaa84-d1ff-4d45-819f-d5ec7392adf6"
      },
      "execution_count": null,
      "outputs": [
        {
          "output_type": "stream",
          "name": "stdout",
          "text": [
            "i am mahidhar,I am 18 class\n"
          ]
        }
      ]
    },
    {
      "cell_type": "code",
      "source": [
        "# Take 2 numbers as user input and add, multiply, divide, subtract, remainder and print\n",
        "# the output (Same operations on floating point input as well)\n",
        "a=int(input(\"enter a number :\"))\n",
        "b=int(input(\"enter another number :\"))\n",
        "add=a+b\n",
        "mul=a*b\n",
        "div=a/b\n",
        "sub=a-b\n",
        "rem=a%b\n",
        "print(\"addition =\",add)\n",
        "print(\"multiplication =\",mul)\n",
        "print(\"division =\",div)\n",
        "print(\"subtraction =\",sub)\n",
        "print(\"remainder =\",rem)"
      ],
      "metadata": {
        "colab": {
          "base_uri": "https://localhost:8080/"
        },
        "id": "8UboNoo0UyYm",
        "outputId": "aedeab6b-95fa-479a-f0e6-6400c543d7c7"
      },
      "execution_count": null,
      "outputs": [
        {
          "output_type": "stream",
          "name": "stdout",
          "text": [
            "enter a number :7\n",
            "enter another number :5\n",
            "addition = 12\n",
            "multiplication = 35\n",
            "division = 1.4\n",
            "subtraction = 2\n",
            "remainder = 2\n"
          ]
        }
      ]
    },
    {
      "cell_type": "code",
      "source": [
        "#Conversion of one unit to another (such as hours to minutes, miles to km and etc)\n",
        "a=float(input(\"enter hours :\"))\n",
        "print(\"hours to minutes :\",a*60)\n",
        "b=float(input(\"enter miles :\"))\n",
        "print(\"miles to kilometers: \",b*1.6)"
      ],
      "metadata": {
        "colab": {
          "base_uri": "https://localhost:8080/"
        },
        "id": "nCSKHmxVWU8D",
        "outputId": "5ec90c6c-5f11-49d3-a50d-abd2f06e0de1"
      },
      "execution_count": null,
      "outputs": [
        {
          "output_type": "stream",
          "name": "stdout",
          "text": [
            "enter hours :3.5\n",
            "hours to minutes : 210.0\n",
            "enter miles :17\n",
            "miles to kilometers:  27.200000000000003\n"
          ]
        }
      ]
    },
    {
      "cell_type": "code",
      "source": [
        "#Usage of mathematical functions in python like math.ceil, floor, fabs, fmod, trunc,\n",
        "# pow, sqrt etc.\n",
        "a=float(input(\"enter a number : \"))\n",
        "b=float(input(\"enter a number : \"))\n",
        "import math\n",
        "print(math.ceil(a))\n",
        "print(math.floor(a))\n",
        "print(math.fabs(a))\n",
        "print(math.fmod(a,b))\n",
        "print(math.trunc(a))\n",
        "print(math.pow(a,b))\n",
        "print(math.sqrt(a))"
      ],
      "metadata": {
        "colab": {
          "base_uri": "https://localhost:8080/"
        },
        "id": "j2TyDy56XVAy",
        "outputId": "fe3ae632-990d-402b-95ad-3509419d8a88"
      },
      "execution_count": null,
      "outputs": [
        {
          "output_type": "stream",
          "name": "stdout",
          "text": [
            "enter a number : 4.87\n",
            "enter a number : 3\n",
            "5\n",
            "4\n",
            "4.87\n",
            "1.87\n",
            "4\n",
            "115.50130300000001\n",
            "2.2068076490713913\n"
          ]
        }
      ]
    },
    {
      "cell_type": "code",
      "source": [
        "# Building a mathematical calculator that can perform operations according to user input.\n",
        "# Use decision making statement.\n",
        "a=int(input(\"enter a number :\"))\n",
        "b=int(input(\"enter another number :\"))\n",
        "c=str(input(\"enter operation : \"))\n",
        "if(c=='addition'):\n",
        "  print(a+b)\n",
        "elif(c=='subtraction'):\n",
        "  print(a-b)\n",
        "elif(c=='multiplication'):\n",
        "  print(a*b)\n",
        "elif(c=='division'):\n",
        "  print(a/b)\n",
        "elif(c=='remainder'):\n",
        "  print(a%b)\n",
        "else:\n",
        "  print(\"enter valid operator\")"
      ],
      "metadata": {
        "colab": {
          "base_uri": "https://localhost:8080/"
        },
        "id": "FOrhxh_SamDf",
        "outputId": "2c0a656b-f556-48f3-8da9-0d821f031907"
      },
      "execution_count": null,
      "outputs": [
        {
          "output_type": "stream",
          "name": "stdout",
          "text": [
            "enter a number :10\n",
            "enter another number :5\n",
            "enter operation : multiplication\n",
            "50\n"
          ]
        }
      ]
    },
    {
      "cell_type": "code",
      "source": [
        "#Accepting 5 different subject marks from user and displaying the grade of the student.\n",
        "a=float(input(\"enter marks of subject 1 :\"))\n",
        "b=float(input(\"enter marks of subject 2 :\"))\n",
        "c=float(input(\"enter marks of subject 3 :\"))\n",
        "d=float(input(\"enter marks of subject 4 :\"))\n",
        "e=float(input(\"enter marks of subject 5 :\"))\n",
        "avg=(a+b+c+d+e)/5\n",
        "if(avg>=90):\n",
        "  print(\"o grade\")\n",
        "elif(avg>=80):\n",
        "  print(\"A grade\")\n",
        "elif(avg>=70):\n",
        "  print(\"B grade\")\n",
        "elif(avg>=60):\n",
        "  print(\"C grade\")\n",
        "elif(avg>=50):\n",
        "  print(\"D grade\")\n",
        "else:\n",
        "  print(\"fail\")"
      ],
      "metadata": {
        "colab": {
          "base_uri": "https://localhost:8080/"
        },
        "id": "T51I1dHqctTB",
        "outputId": "ed7ea0c5-f0cb-46f2-ce2a-2fc1b6a7d000"
      },
      "execution_count": null,
      "outputs": [
        {
          "output_type": "stream",
          "name": "stdout",
          "text": [
            "enter marks of subject 1 :78\n",
            "enter marks of subject 2 :98\n",
            "enter marks of subject 3 :76\n",
            "enter marks of subject 4 :67\n",
            "enter marks of subject 5 :97\n",
            "A grade\n"
          ]
        }
      ]
    },
    {
      "cell_type": "code",
      "source": [
        "# Printing all even numbers, odd numbers, count of even numbers, count of odd numbers\n",
        "# within a given range.\n",
        "n=int(input(\"enter range :\"))\n",
        "print(\"even numbers :\")\n",
        "c=0\n",
        "for i in range(1,n+1):\n",
        "  if(i%2==0):\n",
        "    c+=1\n",
        "    print(i)\n",
        "print(\"even numbers count :\",c)\n",
        "print(\"odd numbers :\")\n",
        "o=0\n",
        "for i in range(1,n+1):\n",
        "  if(i%2!=0):\n",
        "    o+=1\n",
        "    print(i)\n",
        "print(\"odd numbers count :\",o)"
      ],
      "metadata": {
        "colab": {
          "base_uri": "https://localhost:8080/"
        },
        "id": "xoqR1S2ae8Hh",
        "outputId": "3e7263c4-4c4a-4b5f-96ac-7ef3918d45b5"
      },
      "execution_count": null,
      "outputs": [
        {
          "output_type": "stream",
          "name": "stdout",
          "text": [
            "enter range :40\n",
            "even numbers :\n",
            "2\n",
            "4\n",
            "6\n",
            "8\n",
            "10\n",
            "12\n",
            "14\n",
            "16\n",
            "18\n",
            "20\n",
            "22\n",
            "24\n",
            "26\n",
            "28\n",
            "30\n",
            "32\n",
            "34\n",
            "36\n",
            "38\n",
            "40\n",
            "even numbers count : 20\n",
            "odd numbers :\n",
            "1\n",
            "3\n",
            "5\n",
            "7\n",
            "9\n",
            "11\n",
            "13\n",
            "15\n",
            "17\n",
            "19\n",
            "21\n",
            "23\n",
            "25\n",
            "27\n",
            "29\n",
            "31\n",
            "33\n",
            "35\n",
            "37\n",
            "39\n",
            "odd numbers count : 20\n"
          ]
        }
      ]
    },
    {
      "cell_type": "code",
      "source": [
        "#Compute the factorial of a given number.\n",
        "a=int(input(\"enter a num\"))\n",
        "fac=1\n",
        "for i in range(1,a+1):\n",
        "  fac=fac*i\n",
        "print(fac)"
      ],
      "metadata": {
        "colab": {
          "base_uri": "https://localhost:8080/"
        },
        "id": "eLIr5arRgXP2",
        "outputId": "3b235afa-cec1-453b-c895-32df6e5ecbd5"
      },
      "execution_count": null,
      "outputs": [
        {
          "output_type": "stream",
          "name": "stdout",
          "text": [
            "enter a num5\n",
            "120\n"
          ]
        }
      ]
    },
    {
      "cell_type": "code",
      "source": [
        "# Compute GCD of two given numbers\n",
        "a=int(input(\"enter a number\"))\n",
        "b=int(input(\"enter another number\"))\n",
        "k=a if (a<b) else b\n",
        "while True:\n",
        "  if(a%k==0 and b%k==0):\n",
        "    break\n",
        "  k-=1\n",
        "print(k)"
      ],
      "metadata": {
        "colab": {
          "base_uri": "https://localhost:8080/"
        },
        "id": "5fM3QaF1iFDf",
        "outputId": "16ceb5cc-29e6-47ac-84e2-522f9a699c39"
      },
      "execution_count": null,
      "outputs": [
        {
          "output_type": "stream",
          "name": "stdout",
          "text": [
            "enter a number3\n",
            "enter another number5\n",
            "1\n"
          ]
        }
      ]
    },
    {
      "cell_type": "code",
      "source": [
        "# Generate Fibonacci series up to N numbers.\n",
        "n=int(input(\"enter range :\"))\n",
        "a=0\n",
        "b=1\n",
        "print(a,end=' ')\n",
        "print(b,end=' ')\n",
        "for i in range(1,n-1):\n",
        "  c=a+b\n",
        "  print(c,end=' ')\n",
        "  a=b\n",
        "  b=c\n"
      ],
      "metadata": {
        "colab": {
          "base_uri": "https://localhost:8080/"
        },
        "id": "7uMzSjEgjgj5",
        "outputId": "cef5347e-47c0-455a-a0cb-bbabed870ae6"
      },
      "execution_count": null,
      "outputs": [
        {
          "output_type": "stream",
          "name": "stdout",
          "text": [
            "enter range :10\n",
            "0 1 1 2 3 5 8 13 21 34 "
          ]
        }
      ]
    },
    {
      "cell_type": "code",
      "source": [
        "# palindrome\n",
        "a=int(input(\"enter a number\"))\n",
        "b=a\n",
        "f=0\n",
        "while a>0:\n",
        "  d=a%10\n",
        "  f=f*10+d\n",
        "  a=a//10\n",
        "if(f==b):\n",
        "  print(\"palindrome\")\n",
        "else:\n",
        "  print(\"not palindrome\")"
      ],
      "metadata": {
        "colab": {
          "base_uri": "https://localhost:8080/"
        },
        "id": "A4EYXc4Rk6-E",
        "outputId": "f7444dbd-e383-4f14-ee39-93724c3a33ef"
      },
      "execution_count": null,
      "outputs": [
        {
          "output_type": "stream",
          "name": "stdout",
          "text": [
            "enter a number121\n",
            "palindrome\n"
          ]
        }
      ]
    }
  ]
}