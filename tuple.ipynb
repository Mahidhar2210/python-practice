{
  "nbformat": 4,
  "nbformat_minor": 0,
  "metadata": {
    "colab": {
      "name": "tuple.ipynb",
      "provenance": [],
      "authorship_tag": "ABX9TyN53AdvUQSOU83TRi4h8WPh",
      "include_colab_link": true
    },
    "kernelspec": {
      "name": "python3",
      "display_name": "Python 3"
    },
    "language_info": {
      "name": "python"
    }
  },
  "cells": [
    {
      "cell_type": "markdown",
      "metadata": {
        "id": "view-in-github",
        "colab_type": "text"
      },
      "source": [
        "<a href=\"https://colab.research.google.com/github/Mahidhar2210/python-practice/blob/tuples/tuple.ipynb\" target=\"_parent\"><img src=\"https://colab.research.google.com/assets/colab-badge.svg\" alt=\"Open In Colab\"/></a>"
      ]
    },
    {
      "cell_type": "code",
      "execution_count": null,
      "metadata": {
        "colab": {
          "base_uri": "https://localhost:8080/"
        },
        "id": "KF6rarw9kBUf",
        "outputId": "44027996-eac5-4326-f4ff-a4fea82eb664"
      },
      "outputs": [
        {
          "output_type": "stream",
          "name": "stdout",
          "text": [
            "('apple', 'banana', 'cherry')\n"
          ]
        }
      ],
      "source": [
        "a = (\"apple\", \"banana\", \"cherry\")\n",
        "print(a)"
      ]
    },
    {
      "cell_type": "code",
      "source": [
        "a = (\"apple\", \"banana\", \"cherry\", \"apple\", \"cherry\")#tuples allow duplicates # tuples can be of any datatypes\n",
        "print(a)\n",
        "print(len(a))\n",
        "print(type(a))"
      ],
      "metadata": {
        "colab": {
          "base_uri": "https://localhost:8080/"
        },
        "id": "x5yiSZDAnEFC",
        "outputId": "9f938abb-acd6-4109-d105-b494eaea7695"
      },
      "execution_count": null,
      "outputs": [
        {
          "output_type": "stream",
          "name": "stdout",
          "text": [
            "('apple', 'banana', 'cherry', 'apple', 'cherry')\n",
            "5\n",
            "<class 'tuple'>\n"
          ]
        }
      ]
    },
    {
      "cell_type": "code",
      "source": [
        "a= tuple((\"apple\", \"banana\", \"cherry\",\"apple\", \"banana\", \"cherry\", \"apple\", \"cherry\"))\n",
        "print(a)\n",
        "print(a[1])\n",
        "print(a[-1])\n",
        "print(a[2:5])\n",
        "print(a[:-1])\n",
        "b=list(a)\n",
        "b.append(\"dryfruit\")\n",
        "a=tuple(b)\n",
        "print(a)"
      ],
      "metadata": {
        "colab": {
          "base_uri": "https://localhost:8080/"
        },
        "id": "6eefxGRunWjR",
        "outputId": "0cbc6787-0e31-44e2-a647-b472c1c83a2b"
      },
      "execution_count": null,
      "outputs": [
        {
          "output_type": "stream",
          "name": "stdout",
          "text": [
            "('apple', 'banana', 'cherry', 'apple', 'banana', 'cherry', 'apple', 'cherry')\n",
            "banana\n",
            "cherry\n",
            "('cherry', 'apple', 'banana')\n",
            "('apple', 'banana', 'cherry', 'apple', 'banana', 'cherry', 'apple')\n",
            "('apple', 'banana', 'cherry', 'apple', 'banana', 'cherry', 'apple', 'cherry', 'dryfruit')\n"
          ]
        }
      ]
    }
  ]
}